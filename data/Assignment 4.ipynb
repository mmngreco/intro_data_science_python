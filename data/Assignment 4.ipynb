{
 "cells": [
  {
   "cell_type": "markdown",
   "metadata": {},
   "source": [
    "---\n",
    "\n",
    "_You are currently looking at **version 1.0** of this notebook. To download notebooks and datafiles, as well as get help on Jupyter notebooks in the Coursera platform, visit the [Jupyter Notebook FAQ](https://www.coursera.org/learn/python-data-analysis/resources/0dhYG) course resource._\n",
    "\n",
    "---"
   ]
  },
  {
   "cell_type": "code",
   "execution_count": 1,
   "metadata": {
    "collapsed": true
   },
   "outputs": [],
   "source": [
    "import pandas as pd\n",
    "import numpy as np\n",
    "from scipy.stats import ttest_ind"
   ]
  },
  {
   "cell_type": "markdown",
   "metadata": {},
   "source": [
    "# Assignment 4 - Hypothesis Testing\n",
    "This assignment requires more individual learning than previous assignments - you are encouraged to check out the [pandas documentation](http://pandas.pydata.org/pandas-docs/stable/) to find functions or methods you might not have used yet, or ask questions on [Stack Overflow](http://stackoverflow.com/) and tag them as pandas and python related. And of course, the discussion forums are open for interaction with your peers and the course staff.\n",
    "\n",
    "Definitions:\n",
    "* A _quarter_ is a specific three month period, Q1 is January through March, Q2 is April through June, Q3 is July through September, Q4 is October through December.\n",
    "* A _recession_ is defined as starting with two consecutive quarters of GDP decline, and ending with two consecutive quarters of GDP growth.\n",
    "* A _recession bottom_ is the quarter within a recession which had the lowest GDP.\n",
    "* A _university town_ is a city which has a high percentage of university students compared to the total population of the city.\n",
    "\n",
    "**Hypothesis**: University towns have their mean housing prices less effected by recessions. Run a t-test to compare the ratio of the mean price of houses in university towns the quarter before the recession starts compared to the recession bottom. (`price_ratio=quarter_before_recession/recession_bottom`)\n",
    "\n",
    "The following data files are available for this assignment:\n",
    "* From the [Zillow research data site](http://www.zillow.com/research/data/) there is housing data for the United States. In particular the datafile for [all homes at a city level](http://files.zillowstatic.com/research/public/City/City_Zhvi_AllHomes.csv), ```City_Zhvi_AllHomes.csv```, has median home sale prices at a fine grained level.\n",
    "* From the Wikipedia page on college towns is a list of [university towns in the United States](https://en.wikipedia.org/wiki/List_of_college_towns#College_towns_in_the_United_States) which has been copy and pasted into the file ```university_towns.txt```.\n",
    "* From Bureau of Economic Analysis, US Department of Commerce, the [GDP over time](http://www.bea.gov/national/index.htm#gdp) of the United States in current dollars (use the chained value in 2009 dollars), in quarterly intervals, in the file ```gdplev.xls```. For this assignment, only look at GDP data from the first quarter of 2000 onward.\n",
    "\n",
    "Each function in this assignment below is worth 10%, with the exception of ```run_ttest()```, which is worth 50%."
   ]
  },
  {
   "cell_type": "code",
   "execution_count": 2,
   "metadata": {
    "collapsed": true
   },
   "outputs": [],
   "source": [
    "# Use this dictionary to map state names to two letter acronyms\n",
    "states = {'OH': 'Ohio', 'KY': 'Kentucky', 'AS': 'American Samoa', 'NV': 'Nevada', 'WY': 'Wyoming', 'NA': 'National', 'AL': 'Alabama', 'MD': 'Maryland', 'AK': 'Alaska', 'UT': 'Utah', 'OR': 'Oregon', 'MT': 'Montana', 'IL': 'Illinois', 'TN': 'Tennessee', 'DC': 'District of Columbia', 'VT': 'Vermont', 'ID': 'Idaho', 'AR': 'Arkansas', 'ME': 'Maine', 'WA': 'Washington', 'HI': 'Hawaii', 'WI': 'Wisconsin', 'MI': 'Michigan', 'IN': 'Indiana', 'NJ': 'New Jersey', 'AZ': 'Arizona', 'GU': 'Guam', 'MS': 'Mississippi', 'PR': 'Puerto Rico', 'NC': 'North Carolina', 'TX': 'Texas', 'SD': 'South Dakota', 'MP': 'Northern Mariana Islands', 'IA': 'Iowa', 'MO': 'Missouri', 'CT': 'Connecticut', 'WV': 'West Virginia', 'SC': 'South Carolina', 'LA': 'Louisiana', 'KS': 'Kansas', 'NY': 'New York', 'NE': 'Nebraska', 'OK': 'Oklahoma', 'FL': 'Florida', 'CA': 'California', 'CO': 'Colorado', 'PA': 'Pennsylvania', 'DE': 'Delaware', 'NM': 'New Mexico', 'RI': 'Rhode Island', 'MN': 'Minnesota', 'VI': 'Virgin Islands', 'NH': 'New Hampshire', 'MA': 'Massachusetts', 'GA': 'Georgia', 'ND': 'North Dakota', 'VA': 'Virginia'}\n",
    "\n",
    "import pandas as pd\n",
    "import numpy as np\n",
    "from scipy.stats import ttest_1samp\n",
    "from scipy.stats import normaltest\n",
    "import re"
   ]
  },
  {
   "cell_type": "code",
   "execution_count": 145,
   "metadata": {
    "collapsed": true
   },
   "outputs": [],
   "source": [
    "def get_list_of_university_towns():\n",
    "    '''Returns a DataFrame of towns and the states they are in from the \n",
    "    university_towns.txt list. The format of the DataFrame should be:\n",
    "    DataFrame( [ [\"Michigan\",\"Ann Arbor\"], [\"Michigan\", \"Yipsilanti\"] ], \n",
    "    columns=[\"State\",\"RegionName\"]  )'''\n",
    "    def cleaner(x):\n",
    "        res = x.split('(')[0]\n",
    "        if '[' in res:\n",
    "            res = res.split('[')[0]\n",
    "        return res\n",
    "    df = pd.read_table('university_towns.txt', header=None).rename(columns={0:\"raw\"})\n",
    "    df[\"State\"] = df.applymap(lambda x: 'edit' in x)\n",
    "    df[\"RegionName\"] = df.raw.apply(cleaner)\n",
    "    df[\"State\"] = df.RegionName[df.State]\n",
    "    df[\"State\"].fillna(method='ffill', inplace=True)\n",
    "    df['raw'] = df.raw.apply(lambda x: np.nan if 'edit' in x else x)\n",
    "    df.dropna(inplace=True)\n",
    "    return df[['State', 'RegionName']]"
   ]
  },
  {
   "cell_type": "code",
   "execution_count": 50,
   "metadata": {
    "collapsed": true
   },
   "outputs": [],
   "source": [
    "def get_recession_start():\n",
    "    '''Returns the year and quarter of the recession start time as a \n",
    "    string value in a format such as 2005q3'''\n",
    "    df = pd.read_excel(\"gdplev.xls\", skiprows=5, index_col=4)\n",
    "    df = df.iloc[2:, 5].loc[\"2000q1\":]\n",
    "    c1 = df.pct_change().shift(1) < 0\n",
    "    c2 = df.pct_change() < 0\n",
    "    c3 = df.pct_change().shift(-1) > 0\n",
    "    return (c1 & c2 & c3).argmax()"
   ]
  },
  {
   "cell_type": "code",
   "execution_count": 44,
   "metadata": {
    "collapsed": false
   },
   "outputs": [
    {
     "data": {
      "text/plain": [
       "'2009q2'"
      ]
     },
     "execution_count": 44,
     "metadata": {},
     "output_type": "execute_result"
    }
   ],
   "source": [
    "get_recession_start()"
   ]
  },
  {
   "cell_type": "code",
   "execution_count": 51,
   "metadata": {
    "collapsed": true
   },
   "outputs": [],
   "source": [
    "def get_recession_end():\n",
    "    '''Returns the year and quarter of the recession end time as a \n",
    "    string value in a format such as 2005q3'''\n",
    "    df = pd.read_excel(\"gdplev.xls\", skiprows=5, index_col=4)\n",
    "    df = df.iloc[2:, 5].loc[\"2000q1\":]\n",
    "    c1 = df.pct_change().shift(-1) < 0\n",
    "    c2 = df.pct_change() < 0 \n",
    "    c3 = df.pct_change().shift(-1) > 0\n",
    "    return (c1 & c2 & c3)[::-1].argmax()"
   ]
  },
  {
   "cell_type": "code",
   "execution_count": 52,
   "metadata": {
    "collapsed": false
   },
   "outputs": [
    {
     "data": {
      "text/plain": [
       "'2016q2'"
      ]
     },
     "execution_count": 52,
     "metadata": {},
     "output_type": "execute_result"
    }
   ],
   "source": [
    "get_recession_end()"
   ]
  },
  {
   "cell_type": "code",
   "execution_count": null,
   "metadata": {
    "collapsed": true
   },
   "outputs": [],
   "source": [
    "def get_recession_bottom():\n",
    "    '''Returns the year and quarter of the recession bottom time as a \n",
    "    string value in a format such as 2005q3'''\n",
    "    df = pd.read_excel(\"gdplev.xls\", skiprows=5, index_col=4)\n",
    "    df = df.dropna(how='all').dropna(how='all', axis=1)\n",
    "    start = get_recession_start()\n",
    "    end = get_recession_end()\n",
    "    return df.loc[start:end, 'GDP in billions of current dollars'].idxmin()"
   ]
  },
  {
   "cell_type": "code",
   "execution_count": null,
   "metadata": {
    "collapsed": true
   },
   "outputs": [],
   "source": [
    "def convert_housing_data_to_quarters():\n",
    "    '''Converts the housing data to quarters and returns it as mean \n",
    "    values in a dataframe. This dataframe should be a dataframe with\n",
    "    columns for 2000q1 through 2016q3, and should have a multi-index\n",
    "    in the shape of [\"State\",\"RegionName\"].\n",
    "    \n",
    "    Note: Quarters are defined in the assignment description, they are\n",
    "    not arbitrary three month periods.\n",
    "    \n",
    "    The resulting dataframe should have 67 columns, and 10,730 rows.\n",
    "    '''\n",
    "    house_df = pd.read_csv('City_Zhvi_AllHomes.csv')\n",
    "    house_df\n",
    "    \n",
    "    return house_df"
   ]
  },
  {
   "cell_type": "code",
   "execution_count": 2,
   "metadata": {
    "collapsed": false
   },
   "outputs": [],
   "source": [
    "def run_ttest():\n",
    "    '''First creates new data showing the decline or growth of housing prices\n",
    "    between the recession start and the recession bottom. Then runs a ttest\n",
    "    comparing the university town values to the non-university towns values, \n",
    "    return whether the alternative hypothesis (that the two groups are the same)\n",
    "    is true or not as well as the p-value of the confidence. \n",
    "    \n",
    "    Return the tuple (different, p, better) where different=True if the t-test is\n",
    "    True at a p<0.01 (we reject the null hypothesis), or different=False if \n",
    "    otherwise (we cannot reject the null hypothesis). The variable p should\n",
    "    be equal to the exact p value returned from scipy.stats.ttest_ind(). The\n",
    "    value for better should be either \"university town\" or \"non-university town\"\n",
    "    depending on which has a lower mean price ratio (which is equivilent to a\n",
    "    reduced market loss).'''\n",
    "    \n",
    "    recStart = get_recession_start()\n",
    "    recEnd = get_recession_end()\n",
    "    recBottom = get_recession_bottom()\n",
    "    housingDF = convert_housing_data_to_quarters()\n",
    "    uniDF = get_list_of_university_towns()\n",
    "    uniDF.set_index(['State', 'RegionName'], inplace=True)\n",
    "    \n",
    "    colInds = [colN for colN, thisCol in enumerate(housingDF.columns) if thisCol == recStart or thisCol == recBottom]\n",
    "    sbDF = housingDF.loc[:,housingDF.columns[colInds[0]-1]:housingDF.columns[colInds[1]]]\n",
    "    diffCols = [thisCol+'-'+sbDF.columns[colN+1] for colN, thisCol in enumerate(sbDF.columns) if colN < 4]\n",
    "\n",
    "    uni_sb_diffDF = (pd.merge(sbDF, uniDF, how='inner', left_index=True, right_index=True)\n",
    "                     )\n",
    "    uni_sb_diffDF['Price Ratio'] = np.divide(uni_sb_diffDF[uni_sb_diffDF.columns[0]],uni_sb_diffDF[uni_sb_diffDF.columns[3]])\n",
    "    uni_sb_diffDF.dropna(inplace=True)\n",
    "    \n",
    "    nonUni_sb_diffDF = sbDF.drop(uni_sb_diffDF.index)\n",
    "    nonUni_sb_diffDF['Price Ratio'] = np.divide(nonUni_sb_diffDF.loc[:,nonUni_sb_diffDF.columns[0]],nonUni_sb_diffDF.loc[:,nonUni_sb_diffDF.columns[3]])\n",
    "    nonUni_sb_diffDF.dropna(inplace=True)\n",
    "   \n",
    "\n",
    "    if uni_sb_diffDF['Price Ratio'].mean() > nonUni_sb_diffDF['Price Ratio'].mean():\n",
    "        \n",
    "        better = \"non-university town\"\n",
    "    else:\n",
    "        \n",
    "        better = \"university town\"\n",
    "\n",
    "    \n",
    "    firstT = ttest_ind(uni_sb_diffDF['Price Ratio'], nonUni_sb_diffDF['Price Ratio'])\n",
    "    p=firstT.pvalue\n",
    "    \n",
    "    if p>0.01:\n",
    "        different = False\n",
    "        return (different, p, better)\n",
    "        \n",
    "    elif p<0.01:\n",
    "        different = True\n",
    "        return (different, p, better)\n",
    "    "
   ]
  }
 ],
 "metadata": {
  "coursera": {
   "course_slug": "python-data-analysis",
   "graded_item_id": "Il9Fx",
   "launcher_item_id": "TeDW0",
   "part_id": "WGlun"
  },
  "kernelspec": {
   "display_name": "Python 3",
   "language": "python",
   "name": "python3"
  },
  "language_info": {
   "codemirror_mode": {
    "name": "ipython",
    "version": 3
   },
   "file_extension": ".py",
   "mimetype": "text/x-python",
   "name": "python",
   "nbconvert_exporter": "python",
   "pygments_lexer": "ipython3",
   "version": "3.5.3"
  }
 },
 "nbformat": 4,
 "nbformat_minor": 0
}
